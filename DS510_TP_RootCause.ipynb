{
 "cells": [
  {
   "cell_type": "markdown",
   "id": "ef9f6cec",
   "metadata": {},
   "source": [
    "# DS510 Team Project\n",
    "DS510 Artificial Intelligence for Data Science \\\n",
    "Term: Summer 2025 \\\n",
    "Team: Team XX \\\n",
    "Authors: Hiromi Cota, David Hiltzman, Joseph Tran \\\n",
    "Emails: cotahiromi@cityuniversity.edu, hiltzmandavid@cityuniversity.edu, trantung@cityuniversity.edu \\\n",
    "\n",
    "## Task: \n",
    "First, find an applicable area where an AI algorithm can be applied (e.g., weather prediction). Once the project's goal is set, the models must be developed and tested on different datasets. There are various publicly available datasets; find one with data that suits your project. Finding publicly available data that can be used for the project is a crucial step in getting the project done appropriately. You are encouraged to look at Kaggle   to see available datasets to give you some ideas for selecting the team project topic. Please have one team member send the instructor information on the team project topic for confirmation to get started on the project and the project proposal. "
   ]
  },
  {
   "cell_type": "code",
   "execution_count": null,
   "id": "2fc2576c",
   "metadata": {},
   "outputs": [],
   "source": [
    "# Imports\n",
    "import kagglehub\n",
    "import tensorflow as tf\n",
    "import numpy as np\n",
    "import pandas as pd\n",
    "import matplotlib.pyplot as plt\n",
    "import os\n",
    "from PIL import Image\n",
    "from sklearn.model_selection import train_test_split\n",
    "from tensorflow.keras.preprocessing.image import ImageDataGenerator"
   ]
  },
  {
   "cell_type": "code",
   "execution_count": null,
   "id": "eb222ca7",
   "metadata": {},
   "outputs": [],
   "source": [
    "# Download latest version\n",
    "PATH = kagglehub.dataset_download(\"abdallahalidev/plantvillage-dataset\")\n",
    "\n",
    "print(\"Path to dataset files:\", PATH)\n",
    "IMG_SIZE = (224, 224)\n",
    "BATCH_SIZE = 32"
   ]
  },
  {
   "cell_type": "code",
   "execution_count": null,
   "id": "e36f2807",
   "metadata": {},
   "outputs": [],
   "source": [
    "# Step 3: Prepare training & validation datasets\n",
    "train_gen = datagen.flow_from_directory(\n",
    "    extract_dir,\n",
    "    target_size=IMG_SIZE,\n",
    "    batch_size=BATCH_SIZE,\n",
    "    class_mode='categorical',\n",
    "    subset='training'\n",
    ")"
   ]
  },
  {
   "cell_type": "code",
   "execution_count": null,
   "id": "2895435d",
   "metadata": {},
   "outputs": [],
   "source": [
    "val_gen = datagen.flow_from_directory(\n",
    "    extract_dir,\n",
    "    target_size=IMG_SIZE,\n",
    "    batch_size=BATCH_SIZE,\n",
    "    class_mode='categorical',\n",
    "    subset='validation'\n",
    ")"
   ]
  },
  {
   "cell_type": "code",
   "execution_count": null,
   "id": "88ad6f28",
   "metadata": {},
   "outputs": [],
   "source": [
    "# Step 4: Save class names to CSV\n",
    "labels = list(train_gen.class_indices.keys())\n",
    "with open(\"labels.txt\", \"w\") as f:\n",
    "    for label in labels:\n",
    "        f.write(label + \"\\n\")\n"
   ]
  },
  {
   "cell_type": "code",
   "execution_count": null,
   "id": "ac10e458",
   "metadata": {},
   "outputs": [],
   "source": [
    "# Step 5: Build MobileNetV2 model (no pre-trained weights for Kaggle)\n",
    "# using a lighter MobileNetV2 since it's small and fast so it can run on a phone\n",
    "base_model = tf.keras.applications.MobileNetV2(\n",
    "    input_shape=IMG_SIZE + (3,),\n",
    "    include_top=False,\n",
    "    weights='imagenet'\n",
    ")\n",
    "base_model.trainable = False  # Freeze base layers"
   ]
  },
  {
   "cell_type": "code",
   "execution_count": null,
   "id": "1e67bdfa",
   "metadata": {},
   "outputs": [],
   "source": [
    "model = tf.keras.Sequential([\n",
    "    base_model,\n",
    "    tf.keras.layers.GlobalAveragePooling2D(),\n",
    "    tf.keras.layers.Dense(len(labels), activation='softmax')\n",
    "])"
   ]
  },
  {
   "cell_type": "code",
   "execution_count": null,
   "id": "f37826c2",
   "metadata": {},
   "outputs": [],
   "source": [
    "model.compile(\n",
    "    optimizer='adam',\n",
    "    loss='categorical_crossentropy',\n",
    "    metrics=['accuracy']\n",
    ")"
   ]
  },
  {
   "cell_type": "code",
   "execution_count": null,
   "id": "ff84c6cd",
   "metadata": {},
   "outputs": [],
   "source": [
    "# Step 6: Train the model\n",
    "history = model.fit(\n",
    "    train_gen,\n",
    "    validation_data=val_gen,\n",
    "    epochs=10\n",
    ")"
   ]
  },
  {
   "cell_type": "code",
   "execution_count": null,
   "id": "441d830b",
   "metadata": {},
   "outputs": [],
   "source": [
    "# Step 7: Save model\n",
    "model.save(\"plant_disease_model.h5\")\n",
    "print(\"Model and class names saved!\")"
   ]
  }
 ],
 "metadata": {
  "kernelspec": {
   "display_name": "ds510_venv",
   "language": "python",
   "name": "python3"
  },
  "language_info": {
   "codemirror_mode": {
    "name": "ipython",
    "version": 3
   },
   "file_extension": ".py",
   "mimetype": "text/x-python",
   "name": "python",
   "nbconvert_exporter": "python",
   "pygments_lexer": "ipython3",
   "version": "3.12.3"
  }
 },
 "nbformat": 4,
 "nbformat_minor": 5
}
