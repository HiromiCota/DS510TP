{
 "cells": [
  {
   "cell_type": "markdown",
   "id": "ef9f6cec",
   "metadata": {},
   "source": [
    "# DS510 Team Project\n",
    "DS510 Artificial Intelligence for Data Science \\\n",
    "Term: Summer 2025 \\\n",
    "Team: Team XX \\\n",
    "Authors: Hiromi Cota, David Hiltzman, Joseph Tran \\\n",
    "Emails: cotahiromi@cityuniversity.edu, hiltzmandavid@cityuniversity.edu, trantung@cityuniversity.edu \\\n",
    "\n",
    "## Task: \n",
    "First, find an applicable area where an AI algorithm can be applied (e.g., weather prediction). Once the project's goal is set, the models must be developed and tested on different datasets. There are various publicly available datasets; find one with data that suits your project. Finding publicly available data that can be used for the project is a crucial step in getting the project done appropriately. You are encouraged to look at Kaggle   to see available datasets to give you some ideas for selecting the team project topic. Please have one team member send the instructor information on the team project topic for confirmation to get started on the project and the project proposal. "
   ]
  },
  {
   "cell_type": "code",
   "execution_count": null,
   "id": "2fc2576c",
   "metadata": {},
   "outputs": [],
   "source": [
    "# =======================\n",
    "# 1. Imports\n",
    "# =======================\n",
    "import kagglehub\n",
    "import tensorflow as tf\n",
    "import numpy as np\n",
    "import pandas as pd\n",
    "import matplotlib.pyplot as plt\n",
    "import os\n",
    "from PIL import Image\n",
    "from sklearn.model_selection import train_test_split\n",
    "from tensorflow.keras.preprocessing.image import ImageDataGenerator"
   ]
  },
  {
   "cell_type": "code",
   "execution_count": null,
   "id": "eb222ca7",
   "metadata": {},
   "outputs": [],
   "source": [
    "# =======================\n",
    "# 2. Download Dataset\n",
    "# =======================\n",
    "PATH = kagglehub.dataset_download(\"abdallahalidev/plantvillage-dataset\")\n",
    "print(\"Path to dataset files:\", PATH)\n",
    "\n",
    "# Dataset directory (adjust depending on extraction structure)\n",
    "extract_dir = PATH  # or PATH + \"/PlantVillage\" if nested"
   ]
  },
  {
   "cell_type": "code",
   "execution_count": null,
   "id": "e36f2807",
   "metadata": {},
   "outputs": [],
   "source": [
    "# =======================\n",
    "# 3. Parameters\n",
    "# =======================\n",
    "IMG_SIZE = (224, 224)\n",
    "BATCH_SIZE = 32\n",
    "VAL_SPLIT = 0.2\n",
    "EPOCHS = 10"
   ]
  },
  {
   "cell_type": "code",
   "execution_count": null,
   "id": "2895435d",
   "metadata": {},
   "outputs": [],
   "source": [
    "# =======================\n",
    "# 4. Data Generators\n",
    "# =======================\n",
    "datagen = ImageDataGenerator(\n",
    "    rescale=1.0/255,\n",
    "    validation_split=VAL_SPLIT,\n",
    "    rotation_range=20,\n",
    "    width_shift_range=0.1,\n",
    "    height_shift_range=0.1,\n",
    "    horizontal_flip=True\n",
    ")\n",
    "\n",
    "train_gen = datagen.flow_from_directory(\n",
    "    extract_dir,\n",
    "    target_size=IMG_SIZE,\n",
    "    batch_size=BATCH_SIZE,\n",
    "    class_mode='categorical',\n",
    "    subset='training'\n",
    ")\n",
    "\n",
    "val_gen = datagen.flow_from_directory(\n",
    "    extract_dir,\n",
    "    target_size=IMG_SIZE,\n",
    "    batch_size=BATCH_SIZE,\n",
    "    class_mode='categorical',\n",
    "    subset='validation'\n",
    ")"
   ]
  },
  {
   "cell_type": "code",
   "execution_count": null,
   "id": "88ad6f28",
   "metadata": {},
   "outputs": [],
   "source": [
    "# =======================\n",
    "# 5. Save Class Labels\n",
    "# =======================\n",
    "labels = list(train_gen.class_indices.keys())\n",
    "pd.Series(labels).to_csv(\"labels.txt\", index=False, header=False)\n",
    "print(f\"Saved {len(labels)} labels to labels.txt\")"
   ]
  },
  {
   "cell_type": "code",
   "execution_count": null,
   "id": "ac10e458",
   "metadata": {},
   "outputs": [],
   "source": [
    "# =======================\n",
    "# 6. Build Model (MobileNetV2)\n",
    "# =======================\n",
    "base_model = tf.keras.applications.MobileNetV2(\n",
    "    input_shape=IMG_SIZE + (3,),\n",
    "    include_top=False,\n",
    "    weights='imagenet'\n",
    ")\n",
    "base_model.trainable = False  # Freeze base layers\n",
    "\n",
    "model = tf.keras.Sequential([\n",
    "    base_model,\n",
    "    tf.keras.layers.GlobalAveragePooling2D(),\n",
    "    tf.keras.layers.Dense(len(labels), activation='softmax')\n",
    "])\n",
    "\n",
    "model.compile(\n",
    "    optimizer='adam',\n",
    "    loss='categorical_crossentropy',\n",
    "    metrics=['accuracy']\n",
    ")\n",
    "\n",
    "model.summary()"
   ]
  },
  {
   "cell_type": "code",
   "execution_count": null,
   "id": "1e67bdfa",
   "metadata": {},
   "outputs": [],
   "source": [
    "# =======================\n",
    "# 7. Train Model\n",
    "# =======================\n",
    "history = model.fit(\n",
    "    train_gen,\n",
    "    validation_data=val_gen,\n",
    "    epochs=EPOCHS\n",
    ")"
   ]
  },
  {
   "cell_type": "code",
   "execution_count": null,
   "id": "f37826c2",
   "metadata": {},
   "outputs": [],
   "source": [
    "# =======================\n",
    "# 8. Save Model\n",
    "# =======================\n",
    "model.save(\"plant_disease_model.h5\")\n",
    "print(\"Model and class names saved!\")"
   ]
  },
  {
   "cell_type": "code",
   "execution_count": null,
   "id": "ff84c6cd",
   "metadata": {},
   "outputs": [],
   "source": [
    "# =======================\n",
    "# 9. Plot Accuracy/Loss\n",
    "# =======================\n",
    "plt.figure(figsize=(10, 4))\n",
    "\n",
    "# Accuracy\n",
    "plt.subplot(1, 2, 1)\n",
    "plt.plot(history.history['accuracy'], label=\"Train Acc\")\n",
    "plt.plot(history.history['val_accuracy'], label=\"Val Acc\")\n",
    "plt.title(\"Accuracy\")\n",
    "plt.legend()\n",
    "\n",
    "# Loss\n",
    "plt.subplot(1, 2, 2)\n",
    "plt.plot(history.history['loss'], label=\"Train Loss\")\n",
    "plt.plot(history.history['val_loss'], label=\"Val Loss\")\n",
    "plt.title(\"Loss\")\n",
    "plt.legend()\n",
    "\n",
    "plt.show()"
   ]
  }
 ],
 "metadata": {
  "kernelspec": {
   "display_name": "ds510_venv",
   "language": "python",
   "name": "python3"
  },
  "language_info": {
   "codemirror_mode": {
    "name": "ipython",
    "version": 3
   },
   "file_extension": ".py",
   "mimetype": "text/x-python",
   "name": "python",
   "nbconvert_exporter": "python",
   "pygments_lexer": "ipython3",
   "version": "3.12.3"
  }
 },
 "nbformat": 4,
 "nbformat_minor": 5
}
