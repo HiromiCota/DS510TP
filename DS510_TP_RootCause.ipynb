{
 "cells": [
  {
   "cell_type": "markdown",
   "id": "ef9f6cec",
   "metadata": {},
   "source": [
    "# DS510 Team Project\n",
    "DS510 Artificial Intelligence for Data Science \\\n",
    "Term: Summer 2025 \\\n",
    "Team: Team XX \\\n",
    "Authors: Hiromi Cota, David Hiltzman, Joseph Tran \\\n",
    "Emails: cotahiromi@cityuniversity.edu, hiltzmandavid@cityuniversity.edu, trantung@cityuniversity.edu \\\n",
    "\n",
    "## Task: \n",
    "First, find an applicable area where an AI algorithm can be applied (e.g., weather prediction). Once the project's goal is set, the models must be developed and tested on different datasets. There are various publicly available datasets; find one with data that suits your project. Finding publicly available data that can be used for the project is a crucial step in getting the project done appropriately. You are encouraged to look at Kaggle   to see available datasets to give you some ideas for selecting the team project topic. Please have one team member send the instructor information on the team project topic for confirmation to get started on the project and the project proposal. "
   ]
  },
  {
   "cell_type": "code",
   "execution_count": null,
   "id": "2fc2576c",
   "metadata": {},
   "outputs": [],
   "source": [
    "# Imports\n",
    "import kagglehub\n",
    "import tensorflow as tf\n",
    "import numpy as np\n",
    "import pandas as pd\n",
    "import matplotlib.pyplot as plt\n",
    "import os\n",
    "from PIL import Image\n",
    "from sklearn.model_selection import train_test_split\n",
    "from tensorflow.keras.preprocessing.image import ImageDataGenerator"
   ]
  },
  {
   "cell_type": "markdown",
   "id": "92c67fb1",
   "metadata": {},
   "source": []
  },
  {
   "cell_type": "code",
   "execution_count": null,
   "id": "eb222ca7",
   "metadata": {},
   "outputs": [
    {
     "name": "stderr",
     "output_type": "stream",
     "text": [
      "/home/david/venvs/ds510_venv/lib/python3.12/site-packages/tqdm/auto.py:21: TqdmWarning: IProgress not found. Please update jupyter and ipywidgets. See https://ipywidgets.readthedocs.io/en/stable/user_install.html\n",
      "  from .autonotebook import tqdm as notebook_tqdm\n"
     ]
    },
    {
     "name": "stdout",
     "output_type": "stream",
     "text": [
      "Downloading from https://www.kaggle.com/api/v1/datasets/download/abdallahalidev/plantvillage-dataset?dataset_version_number=3...\n"
     ]
    },
    {
     "name": "stderr",
     "output_type": "stream",
     "text": [
      "100%|██████████| 2.04G/2.04G [00:38<00:00, 56.4MB/s]"
     ]
    },
    {
     "name": "stdout",
     "output_type": "stream",
     "text": [
      "Extracting files...\n"
     ]
    },
    {
     "name": "stderr",
     "output_type": "stream",
     "text": [
      "\n"
     ]
    },
    {
     "name": "stdout",
     "output_type": "stream",
     "text": [
      "Path to dataset files: /home/david/.cache/kagglehub/datasets/abdallahalidev/plantvillage-dataset/versions/3\n"
     ]
    }
   ],
   "source": [
    "# Download latest version\n",
    "PATH = kagglehub.dataset_download(\"abdallahalidev/plantvillage-dataset\")\n",
    "\n",
    "print(\"Path to dataset files:\", PATH)\n",
    "IMG_SIZE = (224, 224)\n",
    "BATCH_SIZE = 32"
   ]
  },
  {
   "cell_type": "code",
   "execution_count": null,
   "id": "99bcc3d0",
   "metadata": {},
   "outputs": [],
   "source": [
    "# Step 2: Data directory\n",
    "# path\n",
    "IMG_SIZE = (224, 224)\n",
    "BATCH_SIZE = 32"
   ]
  }
 ],
 "metadata": {
  "kernelspec": {
   "display_name": "ds510_venv",
   "language": "python",
   "name": "python3"
  },
  "language_info": {
   "codemirror_mode": {
    "name": "ipython",
    "version": 3
   },
   "file_extension": ".py",
   "mimetype": "text/x-python",
   "name": "python",
   "nbconvert_exporter": "python",
   "pygments_lexer": "ipython3",
   "version": "3.12.3"
  }
 },
 "nbformat": 4,
 "nbformat_minor": 5
}
